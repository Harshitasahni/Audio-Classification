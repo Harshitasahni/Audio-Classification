{
 "cells": [
  {
   "cell_type": "code",
   "execution_count": 14,
   "metadata": {},
   "outputs": [],
   "source": [
    "import os\n",
    "import IPython.display as ipd\n",
    "import numpy as np\n",
    "import pandas as pd\n",
    "import matplotlib.pyplot as plt\n",
    "import seaborn as sns\n",
    "import sklearn as skl\n",
    "import sklearn.utils, sklearn.preprocessing, sklearn.decomposition, sklearn.svm\n",
    "import scipy\n",
    "from sklearn.preprocessing import StandardScaler\n",
    "from sklearn.preprocessing import normalize\n",
    "from sklearn.decomposition import PCA\n",
    "import scipy.io.wavfile\n",
    "from pydub import AudioSegment\n",
    "from sklearn import random_projection"
   ]
  },
  {
   "cell_type": "code",
   "execution_count": 15,
   "metadata": {},
   "outputs": [],
   "source": [
    "train_data =pd.read_csv('project3/ml_project3/train.csv')"
   ]
  },
  {
   "cell_type": "code",
   "execution_count": 24,
   "metadata": {},
   "outputs": [
    {
     "data": {
      "text/plain": [
       "2400"
      ]
     },
     "execution_count": 24,
     "metadata": {},
     "output_type": "execute_result"
    }
   ],
   "source": [
    "train_data.head()\n",
    "train_data.shape[0]"
   ]
  },
  {
   "cell_type": "code",
   "execution_count": null,
   "metadata": {},
   "outputs": [],
   "source": [
    "# Converting mp3 files into wav files and saving it in another folder\n",
    "audios = os.listdir('C:/Users/harsh/train')\n",
    "## Folder is having audio files of both MP3 and WAV formats\n",
    "destination='C:/Users/harsh/tarin3/'\n",
    "len_audios=len(audios)\n",
    "#print(len_audio)\n",
    "for i in range (len_audios):\n",
    "     if os.path.splitext(audios[i])[1] == \".mp3\":\n",
    "        mp3_sound = AudioSegment.from_mp3('C:/Users/harsh/train/' + audios[i])\n",
    "        dest_name = destination + audios[i].split('.')[0] + '.wav' \n",
    "        mp3_sound.export(dest_name, format=\"wav\")"
   ]
  },
  {
   "cell_type": "code",
   "execution_count": 16,
   "metadata": {},
   "outputs": [],
   "source": [
    "def read_data(Path,filelist,batch,index):\n",
    "    arrayf1=[]\n",
    "    for file in filelist[index:index+batch]:\n",
    "        x,f= scipy.io.wavfile.read(Path+file)\n",
    "        try:\n",
    "            arrayf1.append(f[:,0])\n",
    "        except IndexError:\n",
    "            arrayf1.append(f)\n",
    "    return(np.asarray(arrayf1))"
   ]
  },
  {
   "cell_type": "code",
   "execution_count": 79,
   "metadata": {},
   "outputs": [
    {
     "data": {
      "text/plain": [
       "100"
      ]
     },
     "execution_count": 79,
     "metadata": {},
     "output_type": "execute_result"
    }
   ],
   "source": [
    "#converting data to numpy array\n",
    "#samplerate=np.asarray(arrayx1)\n",
    "#Converting to numpy array\n",
    "#data=np.asarray(arrayf1)\n",
    "#data.shape[0]\n"
   ]
  },
  {
   "cell_type": "code",
   "execution_count": 35,
   "metadata": {},
   "outputs": [
    {
     "name": "stdout",
     "output_type": "stream",
     "text": [
      "(1439471,)\n"
     ]
    }
   ],
   "source": []
  },
  {
   "cell_type": "code",
   "execution_count": 17,
   "metadata": {},
   "outputs": [],
   "source": [
    "#Padding all audio files with zeros until the maximum length,it includes finding the max\n",
    "def padding(data):\n",
    "    maxc=max(data[i].shape for i in range(data.shape[0]))\n",
    "    S=[]\n",
    "    for i in range(data.shape[0]):  \n",
    "        data_=np.asarray(data[i])\n",
    "        l=data[i].shape    \n",
    "        l=int(''.join(map(str, l)))\n",
    "        m=int(''.join(map(str, maxc))) - l\n",
    "        #print(type(m))\n",
    "        N=int(m)\n",
    "        data_=np.pad(data_, (0, N), 'constant')\n",
    "        #print(data_)\n",
    "        S.append(data_)\n",
    "    return(np.asarray(S))\n"
   ]
  },
  {
   "cell_type": "code",
   "execution_count": 25,
   "metadata": {},
   "outputs": [
    {
     "name": "stdout",
     "output_type": "stream",
     "text": [
      "NEW BATCH {} 100\n",
      "Index {} 100\n",
      "NEW BATCH {} 100\n",
      "Index {} 200\n",
      "NEW BATCH {} 100\n",
      "Index {} 300\n",
      "NEW BATCH {} 100\n",
      "Index {} 400\n",
      "NEW BATCH {} 100\n",
      "Index {} 500\n",
      "NEW BATCH {} 100\n",
      "Index {} 600\n",
      "NEW BATCH {} 100\n",
      "Index {} 700\n",
      "NEW BATCH {} 100\n",
      "Index {} 800\n",
      "NEW BATCH {} 100\n",
      "Index {} 900\n",
      "NEW BATCH {} 100\n",
      "Index {} 1000\n",
      "NEW BATCH {} 100\n",
      "Index {} 1100\n",
      "NEW BATCH {} 100\n",
      "Index {} 1200\n",
      "NEW BATCH {} 100\n",
      "Index {} 1300\n",
      "NEW BATCH {} 100\n",
      "Index {} 1400\n",
      "NEW BATCH {} 100\n",
      "Index {} 1500\n",
      "NEW BATCH {} 100\n",
      "Index {} 1600\n",
      "NEW BATCH {} 100\n",
      "Index {} 1700\n",
      "NEW BATCH {} 100\n",
      "Index {} 1800\n",
      "NEW BATCH {} 100\n",
      "Index {} 1900\n",
      "NEW BATCH {} 100\n",
      "Index {} 2000\n",
      "NEW BATCH {} 100\n",
      "Index {} 2100\n",
      "NEW BATCH {} 100\n",
      "Index {} 2200\n",
      "NEW BATCH {} 100\n",
      "Index {} 2300\n",
      "NEW BATCH {} 100\n",
      "Index {} 2400\n"
     ]
    }
   ],
   "source": [
    "Path = \"project3/ml_project3/train3/\"\n",
    "batchsize=100\n",
    "index=0\n",
    "filelist = [file for file in os.listdir(Path) if file.endswith('.wav')]\n",
    "remaining = len(filelist)\n",
    "f_handle=open('data_reducedd.csv','a')\n",
    "while remaining > 0:\n",
    "#for i in range(2):\n",
    "    batch = min(remaining, batchsize)\n",
    "    #print('NEW BATCH {}',batch)\n",
    "    data=read_data(Path,filelist,batch,index)\n",
    "    data=padding(data)\n",
    "    transformer = random_projection.SparseRandomProjection()   ## Random Projection\n",
    "    data_reduced = transformer.fit_transform(data)\n",
    "    np.savetxt(f_handle, data_reduced, delimiter=',')         ## save reduced data\n",
    "    #print(data_reduced.shape)\n",
    "    #print(data)\n",
    "    index += batch\n",
    "    print('Index {}',index)\n",
    "    remaining -= batch\n",
    "f_handle.close()"
   ]
  },
  {
   "cell_type": "code",
   "execution_count": 71,
   "metadata": {},
   "outputs": [
    {
     "data": {
      "text/plain": [
       "(100, 3947)"
      ]
     },
     "execution_count": 71,
     "metadata": {},
     "output_type": "execute_result"
    }
   ],
   "source": [
    "#transformer = random_projection.SparseRandomProjection()\n",
    "#X_new = transformer.fit_transform(S1)\n",
    "#X_new.shape"
   ]
  },
  {
   "cell_type": "code",
   "execution_count": null,
   "metadata": {},
   "outputs": [],
   "source": [
    "#Converting to dataframe \n",
    "#df = pd.DataFrame(S)"
   ]
  },
  {
   "cell_type": "code",
   "execution_count": 68,
   "metadata": {},
   "outputs": [
    {
     "name": "stdout",
     "output_type": "stream",
     "text": [
      "    principal component 1  principal component 2\n",
      "0                0.002242               0.021057\n",
      "1               -0.064916               0.066738\n",
      "2                0.266429               0.077944\n",
      "3               -0.053385              -0.100152\n",
      "4               -0.033401              -0.114966\n",
      "5               -0.218623              -0.134566\n",
      "6               -0.134045               0.032565\n",
      "7                0.129110              -0.074779\n",
      "8               -0.136755               0.011473\n",
      "9                0.066240               0.015142\n",
      "10               0.077505              -0.116793\n",
      "11               0.055351               0.210491\n",
      "12               0.063392              -0.030848\n",
      "13              -0.059238               0.022838\n",
      "14               0.020463               0.142677\n",
      "15              -0.010099              -0.170086\n",
      "16              -0.023530               0.036534\n",
      "17              -0.229993              -0.044168\n",
      "18              -0.239734              -0.027040\n",
      "19               0.064227               0.047206\n",
      "20              -0.061805               0.112372\n",
      "21               0.070322              -0.089837\n",
      "22              -0.061637              -0.100169\n",
      "23              -0.008272               0.086549\n",
      "24               0.080604               0.020227\n",
      "25              -0.024331               0.066537\n",
      "26               0.051724              -0.217648\n",
      "27               0.114646               0.003075\n",
      "28               0.238877              -0.098267\n",
      "29              -0.108267              -0.246076\n",
      "..                    ...                    ...\n",
      "70              -0.019367               0.083045\n",
      "71              -0.099323               0.016914\n",
      "72              -0.035351              -0.067307\n",
      "73               0.102779               0.002901\n",
      "74              -0.026147              -0.019564\n",
      "75               0.027319               0.060185\n",
      "76              -0.072525               0.053552\n",
      "77               0.171876              -0.060124\n",
      "78              -0.109124              -0.002005\n",
      "79              -0.020069               0.145166\n",
      "80               0.021805               0.068638\n",
      "81              -0.050718               0.153614\n",
      "82              -0.119415              -0.021081\n",
      "83              -0.225111               0.039108\n",
      "84              -0.160907              -0.040034\n",
      "85              -0.038187               0.080990\n",
      "86              -0.005448               0.064690\n",
      "87               0.038344               0.113998\n",
      "88              -0.092173               0.119523\n",
      "89               0.074839               0.147492\n",
      "90              -0.050839              -0.011985\n",
      "91               0.074060               0.176609\n",
      "92               0.017009              -0.048576\n",
      "93               0.091119               0.058597\n",
      "94               0.020061               0.101443\n",
      "95               0.038591               0.076129\n",
      "96               0.132234               0.069240\n",
      "97               0.083336              -0.151120\n",
      "98              -0.001467               0.199215\n",
      "99              -0.223790              -0.032894\n",
      "\n",
      "[100 rows x 2 columns]\n"
     ]
    }
   ],
   "source": [
    "def PCAfunc(P):\n",
    "    #x= StandardScaler().fit_transform(P)\n",
    "    x=normalize(P,norm='l2')\n",
    "    pca = PCA(n_components=2)\n",
    "    principalComponents = pca.fit_transform(x)\n",
    "    principleDf = pd.DataFrame(data = principalComponents, columns = ['principal component 1', 'principal component 2'])          \n",
    "    return principleDf\n",
    "\n",
    "print(PCAfunc(S1))"
   ]
  },
  {
   "cell_type": "code",
   "execution_count": null,
   "metadata": {},
   "outputs": [],
   "source": []
  },
  {
   "cell_type": "code",
   "execution_count": null,
   "metadata": {},
   "outputs": [],
   "source": []
  },
  {
   "cell_type": "code",
   "execution_count": null,
   "metadata": {},
   "outputs": [],
   "source": []
  },
  {
   "cell_type": "code",
   "execution_count": null,
   "metadata": {},
   "outputs": [],
   "source": []
  },
  {
   "cell_type": "code",
   "execution_count": null,
   "metadata": {},
   "outputs": [],
   "source": []
  }
 ],
 "metadata": {
  "kernelspec": {
   "display_name": "Python 3",
   "language": "python",
   "name": "python3"
  },
  "language_info": {
   "codemirror_mode": {
    "name": "ipython",
    "version": 3
   },
   "file_extension": ".py",
   "mimetype": "text/x-python",
   "name": "python",
   "nbconvert_exporter": "python",
   "pygments_lexer": "ipython3",
   "version": "3.7.3"
  }
 },
 "nbformat": 4,
 "nbformat_minor": 2
}
